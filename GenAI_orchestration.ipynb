{
 "cells": [
  {
   "cell_type": "markdown",
   "metadata": {},
   "source": [
    "# Introduction\n",
    "\n",
    "This lesson demonstrates how to use the SDK to interact with the Orchestration Service, enabling the creation of AI-driven workflows by seamlessly integrating various modules, such as templating, large language models (LLMs), data masking and content filtering. By leveraging these modules, you can build complex, automated workflows that enhance the capabilities of your AI solutions. For more details on configuring and using these modules, please refer to the [Orchestration Service Documentation](https://help.sap.com/docs/sap-ai-core/sap-ai-core-service-guide/orchestration?locale=en-US).\n"
   ]
  },
  {
   "cell_type": "markdown",
   "metadata": {},
   "source": [
    "## Setup and configuration\n",
    "\n",
    "The following Python modules are to be installed during this hands-on introduction. \n",
    "\n",
    "#### **generative-ai-hub-sdk**\n",
    "\n",
    "With this SAP python SDK you can leverage the power of generative Models like chatGPT available in SAP's generative AI Hub.\n",
    "\n",
    "\n",
    "<br>\n",
    "\n",
    "> **Note:** Jupyter Notebook kernel restart required after package installation.\n",
    "\n",
    "\n",
    "</br>\n",
    "\n",
    "#### Install Python packages\n",
    "\n",
    "Run the following package installations. **pip** is the package installer for Python. You can use pip to install packages from the Python Package Index and other indexes."
   ]
  },
  {
   "cell_type": "code",
   "execution_count": null,
   "metadata": {},
   "outputs": [],
   "source": [
    "!pip install generative-ai-hub-sdk --break-system-packages\n",
    "!pip install ipywidgets --break-system-packages\n",
    "!pip install pandas --break-system-packages\n",
    "\n",
    "# kernel restart required!!!\n"
   ]
  },
  {
   "cell_type": "markdown",
   "metadata": {},
   "source": [
    "### Verify SDK version\n",
    "\n",
    "Run the following:"
   ]
  },
  {
   "cell_type": "code",
   "execution_count": 2,
   "metadata": {},
   "outputs": [
    {
     "name": "stdout",
     "output_type": "stream",
     "text": [
      "Name: generative-ai-hub-sdk\n",
      "Version: 4.0.0\n",
      "Summary: generative AI hub SDK\n",
      "Home-page: https://www.sap.com/\n",
      "Author: SAP SE\n",
      "Author-email: \n",
      "License: SAP DEVELOPER LICENSE AGREEMENT\n",
      "Location: /Users/I064538/Documents/SAP/dev/sap-samples/sap-genai-hub-with-sap-hana-cloud-vector-engine/gen-ai-orch-venv/lib/python3.12/site-packages\n",
      "Requires: ai-core-sdk, click, dacite, openai, overloading, packaging, pydantic, requests\n",
      "Required-by: \n"
     ]
    }
   ],
   "source": [
    "!pip show generative-ai-hub-sdk"
   ]
  },
  {
   "cell_type": "markdown",
   "metadata": {},
   "source": [
    "#### Restart Python kernel\n",
    "\n",
    "The Python kernel needs to be restarted before continuing. \n",
    "\n",
    "> ![title](./images/config_001.png)\n",
    "\n",
    "</br>\n",
    "\n",
    "> **Note** This will take a couple of minutes."
   ]
  },
  {
   "cell_type": "code",
   "execution_count": null,
   "metadata": {},
   "outputs": [],
   "source": [
    "# Test embeddings\n",
    "\n",
    "from gen_ai_hub.proxy.native.openai import embeddings\n",
    "\n",
    "response = embeddings.create(\n",
    "    input=\"SAP Generative AI Hub is awesome!\",\n",
    "    model_name=\"text-embedding-ada-002\"\n",
    "    \n",
    ")\n",
    "print(response.data)"
   ]
  },
  {
   "cell_type": "code",
   "execution_count": null,
   "metadata": {},
   "outputs": [],
   "source": [
    "# YOUR_API_URL = \"https://api.ai.prod.eu-central-1.aws.ml.hana.ondemand.com/v2/inference/deployments/d26ce2f31ba6ff8a\""
   ]
  },
  {
   "cell_type": "code",
   "execution_count": null,
   "metadata": {},
   "outputs": [],
   "source": [
    "# import json\n",
    "\n",
    "# from gen_ai_hub.orchestration.utils import load_text_file\n",
    "# from gen_ai_hub.orchestration.models.data_masking import DataMasking\n",
    "# from gen_ai_hub.orchestration.models.sap_data_privacy_integration import SAPDataPrivacyIntegration, MaskingMethod, ProfileEntity\n",
    "# from gen_ai_hub.orchestration.models.azure_content_filter import AzureContentFilter\n",
    "# from gen_ai_hub.orchestration.models.config import OrchestrationConfig, Template\n",
    "# from gen_ai_hub.orchestration.models.message import SystemMessage, UserMessage\n",
    "# from gen_ai_hub.orchestration.models.template import Template, TemplateValue\n",
    "# from gen_ai_hub.orchestration.models.llm import LLM\n",
    "# from gen_ai_hub.orchestration.service import OrchestrationService"
   ]
  },
  {
   "cell_type": "code",
   "execution_count": null,
   "metadata": {},
   "outputs": [],
   "source": [
    "\"\"\"PERSON: Represents personal names.\n",
    "ORG: Represents organizational names.\n",
    "UNIVERSITY: Represents educational institutions.\n",
    "LOCATION: Represents geographical locations.\n",
    "EMAIL: Represents email addresses.\n",
    "PHONE: Represents phone numbers.\n",
    "ADDRESS: Represents physical addresses.\n",
    "SAP_IDS_INTERNAL: Represents internal SAP identifiers.\n",
    "SAP_IDS_PUBLIC: Represents public SAP identifiers.\n",
    "URL: Represents URLs.\n",
    "USERNAME_PASSWORD: Represents usernames and passwords.\n",
    "NATIONAL_ID: Represents national identification numbers.\n",
    "IBAN: Represents International Bank Account Numbers.\n",
    "SSN: Represents Social Security Numbers.\n",
    "CREDIT_CARD_NUMBER: Represents credit card numbers.\n",
    "PASSPORT: Represents passport numbers.\n",
    "DRIVING_LICENSE: Represents driving license numbers.\n",
    "NATIONALITY: Represents nationality information.\n",
    "RELIGIOUS_GROUP: Represents religious group affiliation.\n",
    "POLITICAL_GROUP: Represents political group affiliation.\n",
    "PRONOUNS_GENDER: Represents pronouns and gender identity.\n",
    "GENDER: Represents gender information.\n",
    "SEXUAL_ORIENTATION: Represents sexual orientation.\n",
    "TRADE_UNION: Represents trade union membership.\n",
    "SENSITIVE_DATA: Represents any other sensitive information.\"\"\""
   ]
  },
  {
   "cell_type": "code",
   "execution_count": null,
   "metadata": {},
   "outputs": [],
   "source": [
    "# # Load the JSON configuration file\n",
    "# file_path = 'data/ModelOrchConfig_1.json'\n",
    "# def load_json_config(file_path):\n",
    "#     with open(file_path, 'r') as file:\n",
    "#         return json.load(file)\n",
    "\n",
    "# # Extract information from the JSON config and generate the Python configuration\n",
    "# def update_python_config(json_config):\n",
    "#     # Extract relevant information from the JSON\n",
    "#     llm_model_name = json_config['module_configurations']['llm_module_config']['model_name']\n",
    "#     input_filter_config = json_config['module_configurations']['filtering_module_config']['input']['filters'][0]['config']\n",
    "#     output_filter_config = json_config['module_configurations']['filtering_module_config']['output']['filters'][0]['config']\n",
    "#     masking_entities = json_config['module_configurations']['masking_module_config']['masking_providers'][0]['entities']\n",
    "#     system_message_content = json_config['module_configurations']['templating_module_config']['template'][0]['content']\n",
    "#     user_message_content = json_config['module_configurations']['templating_module_config']['template'][1]['content']\n",
    "#     # Generate the input and output filter objects based on the extracted configuration\n",
    "#     # system_message_content = \"greet the user {{?user}} \\nyou are an python agent give a code for the scenario {{?code}} \"\n",
    "\n",
    "#     input_filter = AzureContentFilter(\n",
    "#         hate=input_filter_config['Hate'],\n",
    "#         sexual=input_filter_config['Sexual'],\n",
    "#         self_harm=input_filter_config['SelfHarm'],\n",
    "#         violence=input_filter_config['Violence']\n",
    "#     )\n",
    "#     output_filter = AzureContentFilter(\n",
    "#         hate=output_filter_config['Hate'],\n",
    "#         sexual=output_filter_config['Sexual'],\n",
    "#         self_harm=output_filter_config['SelfHarm'],\n",
    "#         violence=output_filter_config['Violence']\n",
    "#     )\n",
    "#     # Generate the data masking providers based on the extracted entities\n",
    "#     masking_providers = []\n",
    "#     for entity in masking_entities:\n",
    "#         entity_type = entity['type']\n",
    "#         if entity_type == 'profile-email':\n",
    "#             masking_providers.append(ProfileEntity.EMAIL)\n",
    "#         elif entity_type == 'profile-phone':\n",
    "#             masking_providers.append(ProfileEntity.PHONE)\n",
    "#         elif entity_type == 'profile-gender':\n",
    "#             masking_providers.append(ProfileEntity.GENDER)\n",
    "#         elif entity_type == 'profile-location':\n",
    "#             masking_providers.append(ProfileEntity.LOCATION)\n",
    "#         elif entity_type == 'profile-nationalid':\n",
    "#             masking_providers.append(ProfileEntity.NATIONAL_ID)\n",
    "#         elif entity_type == 'profile-nationality':\n",
    "#             masking_providers.append(ProfileEntity.NATIONALITY)\n",
    "#         elif entity_type == 'profile-org':\n",
    "#             masking_providers.append(ProfileEntity.ORG)\n",
    "#         elif entity_type == 'profile-person':\n",
    "#             masking_providers.append(ProfileEntity.PERSON)\n",
    "#         elif entity_type == 'profile-university':\n",
    "#             masking_providers.append(ProfileEntity.UNIVERSITY)\n",
    "#         elif entity_type == 'profile-url':\n",
    "#             masking_providers.append(ProfileEntity.URL)\n",
    "#         elif entity_type == 'profile-username-password':\n",
    "#             masking_providers.append(ProfileEntity.USERNAME_PASSWORD)\n",
    "\n",
    "#     # Generate the data masking config\n",
    "#     data_masking = DataMasking(\n",
    "#         providers=[SAPDataPrivacyIntegration(\n",
    "#             method=MaskingMethod.ANONYMIZATION,\n",
    "#             entities=masking_providers\n",
    "#         )]\n",
    "#     )\n",
    "\n",
    "#     # Return the updated Python config\n",
    "#     return OrchestrationConfig(\n",
    "#         template=Template(\n",
    "#             messages=[\n",
    "#                 SystemMessage(system_message_content),\n",
    "#                 UserMessage(user_message_content),\n",
    "#             ]),\n",
    "#         llm=LLM(name=llm_model_name),\n",
    "#         data_masking=data_masking,\n",
    "#         input_filters=[input_filter],\n",
    "#         output_filters=[output_filter]\n",
    "#     )"
   ]
  },
  {
   "cell_type": "code",
   "execution_count": null,
   "metadata": {},
   "outputs": [],
   "source": [
    "# # Assuming you have a JSON file path 'ModelOrchConfig_1.json'\n",
    "# json_file_path = 'data/ModelOrchConfig_1.json'\n",
    "# json_config = load_json_config(json_file_path)\n",
    "\n",
    "# # Update the configuration\n",
    "# config_ = update_python_config(json_config)\n",
    "\n",
    "# orchestration_service = OrchestrationService(api_url=YOUR_API_URL, config=config_)\n",
    "# # orchestration_service = OrchestrationService(api_url=YOUR_API_URL)\n",
    "\n",
    "# # Execute Orchestration Service\n",
    "# result = orchestration_service.run(\n",
    "#     config=config_,\n",
    "#     template_values=[\n",
    "#         TemplateValue(name=\"candidate_resume\", value=\"John Doe \\n1234 Data St, San Francisco, CA 94101 \\n(123) 456-7890 \\njohndoe@email.com \\nLinkedIn Profile \\nGitHub Profile \\nObjective \\nDetail-oriented Data Scientist with 3+ years of experience in data analysis, statistical modeling, and machine learning. Seeking to leverage expertise in predictive modeling and data visualization to help drive data-informed decision-making at [Company Name]. \\nEducation \\nMaster of Science in Data Science \\nUniversity of California, Berkeley \\nGraduated: May 2021 \\nBachelor of Science in Computer Science \\nUniversity of California, Los Angeles \\nGraduated: May 2019 \\nTechnical Skills \\nProgramming Languages: Python, R, SQL, Java \\nData Analysis & Visualization: Pandas, NumPy, Matplotlib, Seaborn, Tableau \\nMachine Learning: Scikit-learn, TensorFlow, Keras, XGBoost \\nBig Data Technologies: Hadoop, Spark \\nDatabases: MySQL, PostgreSQL \\nVersion Control: Git \\nProfessional Experience  \\nData Scientist \\nDataCorp Inc., San Francisco, CA \\nJune 2021 – Present \\nDeveloped predictive models to optimize marketing campaigns, which increased ROI by 20%. \\nConducted in-depth data analysis using Python and SQL to identify trends and patterns in large datasets. \\nCollaborated with cross-functional teams to implement data-driven strategies that improved customer satisfaction scores by 15%. \\nCreated interactive dashboards using Tableau to visualize KPIs for stakeholders.  \\nData Analyst Intern \\nAnalytics Solutions, Los Angeles, CA \\nJune 2020 – August 2020 \\nAnalyzed large datasets to identify opportunities for business growth and improvement.\\nAssisted in the development of automated reporting tools using Python and Excel. \\nWorked with data visualization tools to create insightful reports for management. \\nProjects \\nCustomer Segmentation Analysis \\nConducted K-means clustering on customer data to segment the customer base into distinct groups, enabling targeted marketing strategies. \\nPredictive Stock Price Modeling \\nBuilt a predictive model using time series analysis to forecast stock prices, achieving an accuracy rate of 85%. \\nSentiment Analysis on Social Media \\nImplemented natural language processing techniques to analyze sentiment from tweets, providing insights into public opinion on various topics. \\nCertifications \\nCertified Data Scientist (CDS) – Data Science Council of America \\nMachine Learning Specialization – Coursera by Stanford University \\nProfessional Affiliations \\nMember, Association for Computing Machinery (ACM) \\nMember, Data Science Society \\nReferences \\nAvailable upon request. \\nPersonal Interests \\n- I absolutely love exploring new technologies and working on innovative projects. \\n- I enjoy reading books, especially on artificial intelligence and machine learning. \\n- I hate people who are dishonest and unreliable. \\n- I love traveling and experiencing new cultures. \\n- I enjoy playing video games, especially competitive ones. \\n- I hate being stuck in a routine; I always seek new challenges and growth opportunities. \\n- I hate working in Azure cloud -\\\"Azure cloud is the most irritating platform i have ever used\\\" \\n\\n\")\n",
    "#     ]\n",
    "# )\n",
    "\n",
    "# # Check for masked entities in the response\n",
    "# masked_result = result.orchestration_result.choices[0].message.content\n",
    "# print(masked_result)"
   ]
  },
  {
   "cell_type": "markdown",
   "metadata": {},
   "source": [
    "## Initializing the Orchestration Service\n",
    "\n",
    "⚠️Before using the SDK, you need to set up a virtual deployment of the Orchestration Service. Once deployed, you'll have access to a unique endpoint URL (deploymentUrl)."
   ]
  },
  {
   "cell_type": "code",
   "execution_count": 6,
   "metadata": {},
   "outputs": [],
   "source": [
    "YOUR_API_URL = \"https://api.ai.prod.eu-central-1.aws.ml.hana.ondemand.com/v2/inference/deployments/d26ce2f31ba6ff8a\""
   ]
  },
  {
   "cell_type": "markdown",
   "metadata": {},
   "source": [
    "### Step 1: Define the Template and Default Input Values\n",
    "\n",
    "The Template class is used to define structured message templates for generating dynamic interactions with language models. In this example, the template is designed for a translation assistant, allowing users to specify a language and text for translation."
   ]
  },
  {
   "cell_type": "code",
   "execution_count": 7,
   "metadata": {},
   "outputs": [],
   "source": [
    "from gen_ai_hub.orchestration.models.message import SystemMessage, UserMessage\n",
    "from gen_ai_hub.orchestration.models.template import Template, TemplateValue\n",
    "\n",
    "template = Template(\n",
    "    messages=[\n",
    "        SystemMessage(\"You are a helpful translation assistant.\"),\n",
    "        UserMessage(\n",
    "            \"Translate the following text to {{?to_lang}}: {{?text}}\"\n",
    "        ),\n",
    "    ],\n",
    "    defaults=[\n",
    "        TemplateValue(name=\"to_lang\", value=\"German\"),\n",
    "    ],\n",
    ")"
   ]
  },
  {
   "cell_type": "markdown",
   "metadata": {},
   "source": [
    ">This template can be used to create translation requests where the language and text to be translated are specified dynamically. The placeholders in the UserMessage will be replaced with the actual values provided at runtime, and the default value for the language is set to German."
   ]
  },
  {
   "cell_type": "markdown",
   "metadata": {},
   "source": [
    "### Step 2: Define the LLM\n",
    "\n",
    "The LLM class is used to configure and initialize a language model for generating text based on specific parameters. In this example, we'll use the GPT-4o model to perform the translation task.\n",
    "\n",
    "ℹ️Note that virtual deployment of the language model is managed automatically by the Orchestration Service, so no additional deployment setup is required on your part."
   ]
  },
  {
   "cell_type": "code",
   "execution_count": 8,
   "metadata": {},
   "outputs": [],
   "source": [
    "from gen_ai_hub.orchestration.models.llm import LLM\n",
    "\n",
    "llm = LLM(name=\"gpt-4o\", version=\"latest\", parameters={\"max_tokens\": 256, \"temperature\": 0.2})"
   ]
  },
  {
   "cell_type": "markdown",
   "metadata": {},
   "source": [
    ">This configuration initializes the language model to use the gpt-4o variant with the latest updates. The model will generate responses up to 256 tokens in length and produce more predictable and focused output due to the low temperature setting."
   ]
  },
  {
   "cell_type": "markdown",
   "metadata": {},
   "source": [
    "### Step 3: Create the Orchestration Configuration\n",
    "\n",
    "The OrchestrationConfig class is used to create a configuration that integrates various components, such as templates and language models, into a unified orchestration setup. This configuration specifies how these components work together to achieve the desired workflow."
   ]
  },
  {
   "cell_type": "code",
   "execution_count": null,
   "metadata": {},
   "outputs": [],
   "source": [
    "from gen_ai_hub.orchestration.models.config import OrchestrationConfig\n",
    "\n",
    "config = OrchestrationConfig(\n",
    "    template=template,\n",
    "    llm=llm,\n",
    ")"
   ]
  },
  {
   "cell_type": "markdown",
   "metadata": {},
   "source": [
    "### Step 4: Run the Orchestration Request\n",
    "\n",
    "The OrchestrationService class is used to interact with the orchestration service by providing a configuration and invoking its operations. This service handles the execution of workflows defined by the provided configuration and processes inputs accordingly."
   ]
  },
  {
   "cell_type": "code",
   "execution_count": null,
   "metadata": {},
   "outputs": [],
   "source": [
    "from gen_ai_hub.orchestration.service import OrchestrationService\n",
    "\n",
    "orchestration_service = OrchestrationService(api_url=YOUR_API_URL, config=config)"
   ]
  },
  {
   "cell_type": "markdown",
   "metadata": {},
   "source": [
    "Call the run method with the required template_values. The service will process the input according to the configuration and return the result."
   ]
  },
  {
   "cell_type": "code",
   "execution_count": null,
   "metadata": {},
   "outputs": [],
   "source": [
    "result = orchestration_service.run(template_values=[\n",
    "    TemplateValue(name=\"text\", value=\"The Orchestration Service is working!\")\n",
    "])\n",
    "print(result.orchestration_result.choices[0].message.content)"
   ]
  },
  {
   "cell_type": "markdown",
   "metadata": {},
   "source": [
    "### Data Masking\n",
    "\n",
    "The Data Masking Module anonymizes or pseudonymizes personally identifiable information (PII) before it is processed by the LLM module. When data is anonymized, all identifying information is replaced with placeholders (e.g., MASKED_ENTITY), and the original data cannot be recovered, ensuring that no trace of the original information is retained. In contrast, pseudonymized data is substituted with unique placeholders (e.g., MASKED_ENTITY_ID), allowing the original information to be restored if needed. In both cases, the masking module identifies sensitive data and replaces it with appropriate placeholders before further processing."
   ]
  },
  {
   "cell_type": "code",
   "execution_count": null,
   "metadata": {},
   "outputs": [],
   "source": [
    "from gen_ai_hub.orchestration.utils import load_text_file\n",
    "from gen_ai_hub.orchestration.models.data_masking import DataMasking\n",
    "from gen_ai_hub.orchestration.models.sap_data_privacy_integration import SAPDataPrivacyIntegration, MaskingMethod, \\\n",
    "    ProfileEntity\n",
    "\n",
    "data_masking = DataMasking(\n",
    "    providers=[\n",
    "        SAPDataPrivacyIntegration(\n",
    "            method=MaskingMethod.ANONYMIZATION,  # or MaskingMethod.PSEUDONYMIZATION\n",
    "            entities=[\n",
    "                ProfileEntity.EMAIL,\n",
    "                ProfileEntity.PHONE,\n",
    "                ProfileEntity.PERSON,\n",
    "                ProfileEntity.ORG,\n",
    "                ProfileEntity.LOCATION\n",
    "            ]\n",
    "        )\n",
    "    ]\n",
    ")\n",
    "\n",
    "config = OrchestrationConfig(\n",
    "    template=Template(\n",
    "        messages=[\n",
    "            SystemMessage(\"You are a helpful AI assistant.\"),\n",
    "            UserMessage(\"Summarize the following CV in 10 sentences: {{?orgCV}}\"),\n",
    "        ]\n",
    "    ),\n",
    "    llm=LLM(\n",
    "        name=\"gpt-4o\",\n",
    "    ),\n",
    "    data_masking=data_masking\n",
    ")\n",
    "\n",
    "cv_as_string = load_text_file(\"data/cv.txt\")\n",
    "\n",
    "result = orchestration_service.run(\n",
    "    config=config,\n",
    "    template_values=[\n",
    "        TemplateValue(name=\"orgCV\", value=cv_as_string)\n",
    "    ]\n",
    ")"
   ]
  },
  {
   "cell_type": "code",
   "execution_count": null,
   "metadata": {},
   "outputs": [],
   "source": [
    "print(result.orchestration_result.choices[0].message.content)"
   ]
  },
  {
   "cell_type": "markdown",
   "metadata": {},
   "source": [
    "### Content Filtering\n",
    "\n",
    "The Content Filtering Module can be configured to filter both the input to the LLM module (input filter) and the output generated by the LLM (output filter). The module uses predefined classification services to detect inappropriate or unwanted content, allowing flexible configuration through customizable thresholds. These thresholds can be set to control the sensitivity of filtering, ensuring that content meets desired standards before it is processed or returned as output."
   ]
  },
  {
   "cell_type": "code",
   "execution_count": null,
   "metadata": {},
   "outputs": [],
   "source": [
    "from gen_ai_hub.orchestration.models.azure_content_filter import AzureContentFilter, AzureThreshold\n",
    "\n",
    "input_filter= AzureContentFilter(hate=AzureThreshold.ALLOW_SAFE,\n",
    "                                  violence=AzureThreshold.ALLOW_SAFE,\n",
    "                                  self_harm=AzureThreshold.ALLOW_SAFE,\n",
    "                                  sexual=AzureThreshold.ALLOW_SAFE)\n",
    "output_filter = AzureContentFilter(hate=AzureThreshold.ALLOW_SAFE,\n",
    "                                   violence=AzureThreshold.ALLOW_SAFE_LOW,\n",
    "                                   self_harm=AzureThreshold.ALLOW_SAFE_LOW_MEDIUM,\n",
    "                                   sexual=AzureThreshold.ALLOW_ALL)\n",
    "\n",
    "config = OrchestrationConfig(\n",
    "    template=Template(\n",
    "        messages=[\n",
    "            SystemMessage(\"You are a helpful AI assistant.\"),\n",
    "            UserMessage(\"{{?text}}\"),\n",
    "        ]\n",
    "    ),\n",
    "    llm=LLM(\n",
    "        name=\"gpt-4o\",\n",
    "    ),\n",
    "    input_filters=[input_filter],\n",
    "    output_filters=[output_filter]\n",
    ")"
   ]
  }
 ],
 "metadata": {
  "kernelspec": {
   "display_name": "gen-ai-orch-venv",
   "language": "python",
   "name": "python3"
  },
  "language_info": {
   "codemirror_mode": {
    "name": "ipython",
    "version": 3
   },
   "file_extension": ".py",
   "mimetype": "text/x-python",
   "name": "python",
   "nbconvert_exporter": "python",
   "pygments_lexer": "ipython3",
   "version": "3.12.4"
  }
 },
 "nbformat": 4,
 "nbformat_minor": 2
}
