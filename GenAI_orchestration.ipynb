{
 "cells": [
  {
   "cell_type": "code",
   "execution_count": null,
   "metadata": {},
   "outputs": [],
   "source": [
    "!pip install generative-ai-hub-sdk[all] --break-system-packages\n",
    "!pip install ipywidgets --break-system-packages\n",
    "!pip install pandas --break-system-packages\n",
    "\n",
    "# kernel restart required!!!\n"
   ]
  },
  {
   "cell_type": "code",
   "execution_count": 2,
   "metadata": {},
   "outputs": [
    {
     "name": "stdout",
     "output_type": "stream",
     "text": [
      "Name: generative-ai-hub-sdk\n",
      "Version: 3.8.0\n",
      "Summary: generative AI hub SDK\n",
      "Home-page: https://www.sap.com/\n",
      "Author: SAP SE\n",
      "Author-email: \n",
      "License: SAP DEVELOPER LICENSE AGREEMENT\n",
      "Location: /Users/I064538/Documents/SAP/dev/sap-genai-hub-with-sap-hana-cloud-vector-engine/genai_hub_env/lib/python3.12/site-packages\n",
      "Requires: ai-core-sdk, click, dacite, openai, overloading, packaging, pydantic\n",
      "Required-by: \n"
     ]
    }
   ],
   "source": [
    "!pip show generative-ai-hub-sdk"
   ]
  },
  {
   "cell_type": "code",
   "execution_count": null,
   "metadata": {},
   "outputs": [],
   "source": [
    "# Test embeddings\n",
    "\n",
    "from gen_ai_hub.proxy.native.openai import embeddings\n",
    "\n",
    "response = embeddings.create(\n",
    "    input=\"SAP Generative AI Hub is awesome!\",\n",
    "    model_name=\"text-embedding-ada-002\"\n",
    "    \n",
    ")\n",
    "print(response.data)"
   ]
  },
  {
   "cell_type": "code",
   "execution_count": 8,
   "metadata": {},
   "outputs": [],
   "source": [
    "# YOUR_API_URL=\"https://api.ai.prodeuonly.eu-central-1.aws.ml.hana.ondemand.com/v2/inference/deployments/de066cc850630a68\"\n",
    "YOUR_API_URL = \"https://api.ai.prod.eu-central-1.aws.ml.hana.ondemand.com/v2/inference/deployments/d26ce2f31ba6ff8a\""
   ]
  },
  {
   "cell_type": "code",
   "execution_count": 4,
   "metadata": {},
   "outputs": [],
   "source": [
    "import json\n",
    "import pandas as pd\n",
    "from gen_ai_hub.orchestration.utils import load_text_file\n",
    "from gen_ai_hub.orchestration.models.data_masking import DataMasking\n",
    "from gen_ai_hub.orchestration.models.sap_data_privacy_integration import SAPDataPrivacyIntegration, MaskingMethod, ProfileEntity\n",
    "from gen_ai_hub.orchestration.models.azure_content_filter import AzureContentFilter\n",
    "from gen_ai_hub.orchestration.models.config import OrchestrationConfig, Template\n",
    "from gen_ai_hub.orchestration.models.message import SystemMessage, UserMessage\n",
    "from gen_ai_hub.orchestration.models.template import Template, TemplateValue\n",
    "from gen_ai_hub.orchestration.models.llm import LLM\n",
    "from gen_ai_hub.orchestration.service import OrchestrationService"
   ]
  },
  {
   "cell_type": "code",
   "execution_count": null,
   "metadata": {},
   "outputs": [],
   "source": [
    "\"\"\"PERSON: Represents personal names.\n",
    "ORG: Represents organizational names.\n",
    "UNIVERSITY: Represents educational institutions.\n",
    "LOCATION: Represents geographical locations.\n",
    "EMAIL: Represents email addresses.\n",
    "PHONE: Represents phone numbers.\n",
    "ADDRESS: Represents physical addresses.\n",
    "SAP_IDS_INTERNAL: Represents internal SAP identifiers.\n",
    "SAP_IDS_PUBLIC: Represents public SAP identifiers.\n",
    "URL: Represents URLs.\n",
    "USERNAME_PASSWORD: Represents usernames and passwords.\n",
    "NATIONAL_ID: Represents national identification numbers.\n",
    "IBAN: Represents International Bank Account Numbers.\n",
    "SSN: Represents Social Security Numbers.\n",
    "CREDIT_CARD_NUMBER: Represents credit card numbers.\n",
    "PASSPORT: Represents passport numbers.\n",
    "DRIVING_LICENSE: Represents driving license numbers.\n",
    "NATIONALITY: Represents nationality information.\n",
    "RELIGIOUS_GROUP: Represents religious group affiliation.\n",
    "POLITICAL_GROUP: Represents political group affiliation.\n",
    "PRONOUNS_GENDER: Represents pronouns and gender identity.\n",
    "GENDER: Represents gender information.\n",
    "SEXUAL_ORIENTATION: Represents sexual orientation.\n",
    "TRADE_UNION: Represents trade union membership.\n",
    "SENSITIVE_DATA: Represents any other sensitive information.\"\"\""
   ]
  },
  {
   "cell_type": "code",
   "execution_count": 9,
   "metadata": {},
   "outputs": [],
   "source": [
    "# Load the JSON configuration file\n",
    "file_path = 'data/ModelOrchConfig_1.json'\n",
    "def load_json_config(file_path):\n",
    "    with open(file_path, 'r') as file:\n",
    "        return json.load(file)\n",
    "\n",
    "# Extract information from the JSON config and generate the Python configuration\n",
    "def update_python_config(json_config):\n",
    "    # Extract relevant information from the JSON\n",
    "    llm_model_name = json_config['module_configurations']['llm_module_config']['model_name']\n",
    "    input_filter_config = json_config['module_configurations']['filtering_module_config']['input']['filters'][0]['config']\n",
    "    output_filter_config = json_config['module_configurations']['filtering_module_config']['output']['filters'][0]['config']\n",
    "    masking_entities = json_config['module_configurations']['masking_module_config']['masking_providers'][0]['entities']\n",
    "    system_message_content = json_config['module_configurations']['templating_module_config']['template'][0]['content']\n",
    "    user_message_content = json_config['module_configurations']['templating_module_config']['template'][1]['content']\n",
    "    # Generate the input and output filter objects based on the extracted configuration\n",
    "    # system_message_content = \"greet the user {{?user}} \\nyou are an python agent give a code for the scenario {{?code}} \"\n",
    "\n",
    "    input_filter = AzureContentFilter(\n",
    "        hate=input_filter_config['Hate'],\n",
    "        sexual=input_filter_config['Sexual'],\n",
    "        self_harm=input_filter_config['SelfHarm'],\n",
    "        violence=input_filter_config['Violence']\n",
    "    )\n",
    "    output_filter = AzureContentFilter(\n",
    "        hate=output_filter_config['Hate'],\n",
    "        sexual=output_filter_config['Sexual'],\n",
    "        self_harm=output_filter_config['SelfHarm'],\n",
    "        violence=output_filter_config['Violence']\n",
    "    )\n",
    "    # Generate the data masking providers based on the extracted entities\n",
    "    masking_providers = []\n",
    "    for entity in masking_entities:\n",
    "        entity_type = entity['type']\n",
    "        if entity_type == 'profile-email':\n",
    "            masking_providers.append(ProfileEntity.EMAIL)\n",
    "        elif entity_type == 'profile-phone':\n",
    "            masking_providers.append(ProfileEntity.PHONE)\n",
    "        elif entity_type == 'profile-gender':\n",
    "            masking_providers.append(ProfileEntity.GENDER)\n",
    "        elif entity_type == 'profile-location':\n",
    "            masking_providers.append(ProfileEntity.LOCATION)\n",
    "        elif entity_type == 'profile-nationalid':\n",
    "            masking_providers.append(ProfileEntity.NATIONAL_ID)\n",
    "        elif entity_type == 'profile-nationality':\n",
    "            masking_providers.append(ProfileEntity.NATIONALITY)\n",
    "        elif entity_type == 'profile-org':\n",
    "            masking_providers.append(ProfileEntity.ORG)\n",
    "        elif entity_type == 'profile-person':\n",
    "            masking_providers.append(ProfileEntity.PERSON)\n",
    "        elif entity_type == 'profile-university':\n",
    "            masking_providers.append(ProfileEntity.UNIVERSITY)\n",
    "        elif entity_type == 'profile-url':\n",
    "            masking_providers.append(ProfileEntity.URL)\n",
    "        elif entity_type == 'profile-username-password':\n",
    "            masking_providers.append(ProfileEntity.USERNAME_PASSWORD)\n",
    "\n",
    "    # Generate the data masking config\n",
    "    data_masking = DataMasking(\n",
    "        providers=[SAPDataPrivacyIntegration(\n",
    "            method=MaskingMethod.ANONYMIZATION,\n",
    "            entities=masking_providers\n",
    "        )]\n",
    "    )\n",
    "\n",
    "    # Return the updated Python config\n",
    "    return OrchestrationConfig(\n",
    "        template=Template(\n",
    "            messages=[\n",
    "                SystemMessage(system_message_content),\n",
    "                UserMessage(user_message_content),\n",
    "            ]),\n",
    "        llm=LLM(name=llm_model_name),\n",
    "        data_masking=data_masking,\n",
    "        input_filters=[input_filter],\n",
    "        output_filters=[output_filter]\n",
    "    )"
   ]
  },
  {
   "cell_type": "code",
   "execution_count": null,
   "metadata": {},
   "outputs": [],
   "source": [
    "# Assuming you have a JSON file path 'ModelOrchConfig_1.json'\n",
    "json_file_path = 'data/ModelOrchConfig_1.json'\n",
    "json_config = load_json_config(json_file_path)\n",
    "\n",
    "# Update the configuration\n",
    "config_ = update_python_config(json_config)\n",
    "\n",
    "orchestration_service = OrchestrationService(api_url=YOUR_API_URL, config=config_)\n",
    "# orchestration_service = OrchestrationService(api_url=YOUR_API_URL)\n",
    "\n",
    "# Execute Orchestration Service\n",
    "result = orchestration_service.run(\n",
    "    config=config_,\n",
    "    template_values=[\n",
    "        TemplateValue(name=\"candidate_resume\", value=\"John Doe \\n1234 Data St, San Francisco, CA 94101 \\n(123) 456-7890 \\njohndoe@email.com \\nLinkedIn Profile \\nGitHub Profile \\nObjective \\nDetail-oriented Data Scientist with 3+ years of experience in data analysis, statistical modeling, and machine learning. Seeking to leverage expertise in predictive modeling and data visualization to help drive data-informed decision-making at [Company Name]. \\nEducation \\nMaster of Science in Data Science \\nUniversity of California, Berkeley \\nGraduated: May 2021 \\nBachelor of Science in Computer Science \\nUniversity of California, Los Angeles \\nGraduated: May 2019 \\nTechnical Skills \\nProgramming Languages: Python, R, SQL, Java \\nData Analysis & Visualization: Pandas, NumPy, Matplotlib, Seaborn, Tableau \\nMachine Learning: Scikit-learn, TensorFlow, Keras, XGBoost \\nBig Data Technologies: Hadoop, Spark \\nDatabases: MySQL, PostgreSQL \\nVersion Control: Git \\nProfessional Experience  \\nData Scientist \\nDataCorp Inc., San Francisco, CA \\nJune 2021 – Present \\nDeveloped predictive models to optimize marketing campaigns, which increased ROI by 20%. \\nConducted in-depth data analysis using Python and SQL to identify trends and patterns in large datasets. \\nCollaborated with cross-functional teams to implement data-driven strategies that improved customer satisfaction scores by 15%. \\nCreated interactive dashboards using Tableau to visualize KPIs for stakeholders.  \\nData Analyst Intern \\nAnalytics Solutions, Los Angeles, CA \\nJune 2020 – August 2020 \\nAnalyzed large datasets to identify opportunities for business growth and improvement.\\nAssisted in the development of automated reporting tools using Python and Excel. \\nWorked with data visualization tools to create insightful reports for management. \\nProjects \\nCustomer Segmentation Analysis \\nConducted K-means clustering on customer data to segment the customer base into distinct groups, enabling targeted marketing strategies. \\nPredictive Stock Price Modeling \\nBuilt a predictive model using time series analysis to forecast stock prices, achieving an accuracy rate of 85%. \\nSentiment Analysis on Social Media \\nImplemented natural language processing techniques to analyze sentiment from tweets, providing insights into public opinion on various topics. \\nCertifications \\nCertified Data Scientist (CDS) – Data Science Council of America \\nMachine Learning Specialization – Coursera by Stanford University \\nProfessional Affiliations \\nMember, Association for Computing Machinery (ACM) \\nMember, Data Science Society \\nReferences \\nAvailable upon request. \\nPersonal Interests \\n- I absolutely love exploring new technologies and working on innovative projects. \\n- I enjoy reading books, especially on artificial intelligence and machine learning. \\n- I hate people who are dishonest and unreliable. \\n- I love traveling and experiencing new cultures. \\n- I enjoy playing video games, especially competitive ones. \\n- I hate being stuck in a routine; I always seek new challenges and growth opportunities. \\n- I hate working in Azure cloud -\\\"Azure cloud is the most irritating platform i have ever used\\\" \\n\\n\")\n",
    "    ]\n",
    ")\n",
    "\n",
    "# Check for masked entities in the response\n",
    "masked_result = result.orchestration_result.choices[0].message.content\n",
    "print(masked_result)"
   ]
  }
 ],
 "metadata": {
  "kernelspec": {
   "display_name": "genai_hub_env",
   "language": "python",
   "name": "python3"
  },
  "language_info": {
   "codemirror_mode": {
    "name": "ipython",
    "version": 3
   },
   "file_extension": ".py",
   "mimetype": "text/x-python",
   "name": "python",
   "nbconvert_exporter": "python",
   "pygments_lexer": "ipython3",
   "version": "3.12.4"
  }
 },
 "nbformat": 4,
 "nbformat_minor": 2
}
